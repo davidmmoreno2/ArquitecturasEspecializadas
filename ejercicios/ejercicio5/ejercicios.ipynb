{
 "cells": [
  {
   "cell_type": "code",
   "execution_count": null,
   "metadata": {},
   "outputs": [],
   "source": [
    "#¿Cuántos datos separados por csv tenemos? \n",
    "#Hadoop\n",
    "def mapper(self,_,line):\n",
    "    words=line.split(',')\n",
    "    yield (None, len(words))\n",
    "\n",
    "def reducer(self,key,value):\n",
    "    yield (key, sum(value))\n",
    "\n",
    "#Spark\n",
    "rdd = sc.textFile('data.csv')\n",
    "rdd.map(lambda x: x.split(','))\n",
    "rdd.map(lambda x: ('palabra', len(x)))\n",
    "rdd.reduce(lambda a,b: a+b)\n",
    "map = rdd.first()\n",
    "\n",
    "#¿Cuántas líneas?\n",
    "#Hadoop\n",
    "def mapper(self,_,line):\n",
    "    yield (None, 1)\n",
    "\n",
    "def reducer(self,key,value):\n",
    "    yield (key, sum(value))\n",
    "\n",
    "#Spark\n",
    "rdd = sc.textFile('data.csv')\n",
    "rdd.map('palabra', 1)\n",
    "rdd.reduce(lambda a,b: a+b)\n",
    "map = rdd.collect()\n",
    "\n",
    "#Calcula el promedio de la temperatura para cada día.\n",
    "#Hadoop\n",
    "def mapper(self,_,line):\n",
    "    words=line.split(',')\n",
    "    yield (words[0], float(words[1]))\n",
    "\n",
    "def reducer(self,key,value):\n",
    "    yield (key, sum(value)/len(value))\n",
    "\n",
    "#Spark\n",
    "rdd = sc.textFile('data.csv')\n",
    "rdd.map(lambda x: x.split(','))"
   ]
  }
 ],
 "metadata": {
  "kernelspec": {
   "display_name": "pyspark-conda",
   "language": "python",
   "name": "python3"
  },
  "language_info": {
   "name": "python",
   "version": "3.10.13"
  }
 },
 "nbformat": 4,
 "nbformat_minor": 2
}
