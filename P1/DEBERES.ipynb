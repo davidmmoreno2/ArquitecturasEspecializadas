{
 "cells": [
  {
   "cell_type": "code",
   "execution_count": null,
   "id": "9c053df4-a953-4bb2-a8b4-5afe1dcbf7b3",
   "metadata": {},
   "outputs": [],
   "source": [
    "#EJERCICIO 1\n",
    "# Dado un número N cualquiera se pide obtener los N primeros números primos.\n",
    "# Para N = 10, debe devolver 2, 3, 5, 7, 11, 13, 17, 19, 23, 29"
   ]
  },
  {
   "cell_type": "code",
   "execution_count": 6,
   "id": "b5fc909f-5218-4255-9ba7-ee7692107162",
   "metadata": {},
   "outputs": [
    {
     "name": "stdout",
     "output_type": "stream",
     "text": [
      "2 3 5 7 11 13 17 19 23 29 "
     ]
    }
   ],
   "source": [
    "def es_primo(n):\n",
    "    if n < 2:\n",
    "        return False\n",
    "    for i in range(2, int(n**0.5) + 1):\n",
    "        if n % i == 0:\n",
    "            return False\n",
    "    return True\n",
    "\n",
    "def generador_primos(i):\n",
    "    n = 2\n",
    "    j = 0\n",
    "    while j < i:\n",
    "        if es_primo(n):\n",
    "            yield n\n",
    "            j += 1\n",
    "        n += 1\n",
    "\n",
    "i = 10\n",
    "for k in generador_primos(i):\n",
    "    print(k, end=' ')\n"
   ]
  },
  {
   "cell_type": "code",
   "execution_count": null,
   "id": "d5df6ac9-b3b2-4bb5-86ae-5d7f54e42c55",
   "metadata": {},
   "outputs": [],
   "source": [
    "#EJERCICIO 2\n",
    "# Escribe una función en Python que tome dos listas y genere todas las posibles combinaciones de elementos entre las\n",
    "# dos listas utilizando un generador. Cada combinación debe ser una tupla con un elemento de la primera lista y un\n",
    "# elemento de la segunda lista.\n",
    "# Con dos listas como lista1 = [1, 2] lista2 = ['a', 'b’]\n",
    "# La salida sería: (1, ‘a’), (1, ‘b’), (2, ‘a’), (2, 'b')"
   ]
  },
  {
   "cell_type": "code",
   "execution_count": 5,
   "id": "438ccf6b-e1f0-45bb-aa67-8ef9781e3f5e",
   "metadata": {},
   "outputs": [
    {
     "name": "stdout",
     "output_type": "stream",
     "text": [
      "[[1, 'a'], [1, 'b'], [2, 'a'], [2, 'b']]\n"
     ]
    }
   ],
   "source": [
    "def lista_generadora(lista1, lista2):\n",
    "    listanueva = []\n",
    "    for i in range (len(lista1)):\n",
    "        for j in range (len(lista2)):\n",
    "            listanueva.append([lista1[i],lista2[j]])\n",
    "    return listanueva\n",
    "\n",
    "listaA = [1,2]\n",
    "listaB = [\"a\",\"b\"]\n",
    "\n",
    "lista_def = lista_generadora(listaA, listaB)\n",
    "print(lista_def)\n",
    "            \n",
    "    "
   ]
  },
  {
   "cell_type": "code",
   "execution_count": 12,
   "id": "11ca250f-3235-4025-a899-dcf839b68f81",
   "metadata": {},
   "outputs": [
    {
     "name": "stdout",
     "output_type": "stream",
     "text": [
      "[[1, 'a'], [1, 'b'], [2, 'a'], [2, 'b']]\n"
     ]
    }
   ],
   "source": [
    "def lista_generadora(lista1, lista2):\n",
    "    listanueva = []\n",
    "    for elem1 in lista1:\n",
    "        for elem2 in lista2:\n",
    "            listanueva.append([elem1,elem2])\n",
    "    return listanueva\n",
    "\n",
    "listaA = [1,2]\n",
    "listaB = [\"a\",\"b\"]\n",
    "\n",
    "lista_def = lista_generadora(listaA, listaB)\n",
    "print(lista_def)"
   ]
  },
  {
   "cell_type": "code",
   "execution_count": 24,
   "id": "0c16331f-1841-4b02-b350-c1bc54b46369",
   "metadata": {},
   "outputs": [
    {
     "name": "stdout",
     "output_type": "stream",
     "text": [
      "[1, 'a'] [1, 'b'] [2, 'a'] [2, 'b'] "
     ]
    }
   ],
   "source": [
    "def lista_generadora(lista1, lista2):\n",
    "    for i in range (len(lista1)):\n",
    "        for j in range (len(lista2)):\n",
    "            yield[lista1[i],lista2[j]]\n",
    "\n",
    "\n",
    "listaA = [1,2]\n",
    "listaB = [\"a\",\"b\"]\n",
    "\n",
    "for i in lista_generadora(listaA, listaB):\n",
    "    print(i, end=' ')"
   ]
  },
  {
   "cell_type": "code",
   "execution_count": 26,
   "id": "9f7052c9-acf1-4439-bf77-e65fa286786d",
   "metadata": {},
   "outputs": [
    {
     "name": "stdout",
     "output_type": "stream",
     "text": [
      "[1, 'a'] [1, 'b'] [2, 'a'] [2, 'b'] "
     ]
    }
   ],
   "source": [
    "def lista_generadora(lista1, lista2):\n",
    "    for elem1 in lista1:\n",
    "        for elem2 in lista2:\n",
    "            yield [elem1, elem2]\n",
    "\n",
    "listaA = [1,2]\n",
    "listaB = [\"a\",\"b\"]\n",
    "\n",
    "for i in lista_generadora(listaA, listaB):\n",
    "    print(i, end=' ')"
   ]
  },
  {
   "cell_type": "code",
   "execution_count": null,
   "id": "9d181e7e-6e6d-4c53-b83c-d35d069173c0",
   "metadata": {},
   "outputs": [],
   "source": [
    "#EJERCICIO 3\n",
    "# Escribe un generador en Python que genere la secuencia de números de Fibonacci hasta un límite dado. La secuencia\n",
    "# de Fibonacci comienza con 0 y 1, y luego cada número siguiente es la suma de los dos números anteriores.\n",
    "# Si límite = 10, debe devolver 0, 1 , 1 , 2 , 3 , 5 , 8"
   ]
  },
  {
   "cell_type": "code",
   "execution_count": 10,
   "id": "c3dc6581-776d-4cc4-bc41-98fba24496df",
   "metadata": {},
   "outputs": [
    {
     "name": "stdout",
     "output_type": "stream",
     "text": [
      "0 1 1 2 3 5 8 "
     ]
    }
   ],
   "source": [
    "def generador_fibonacci(i):\n",
    "    a, b = 0, 1\n",
    "    while a < i:\n",
    "        yield a\n",
    "        a, b = b, a + b\n",
    "        \n",
    "i = 10\n",
    "for k in generador_fibonacci(i):\n",
    "    print(k, end=' ')"
   ]
  }
 ],
 "metadata": {
  "kernelspec": {
   "display_name": "Python 3 (ipykernel)",
   "language": "python",
   "name": "python3"
  },
  "language_info": {
   "codemirror_mode": {
    "name": "ipython",
    "version": 3
   },
   "file_extension": ".py",
   "mimetype": "text/x-python",
   "name": "python",
   "nbconvert_exporter": "python",
   "pygments_lexer": "ipython3",
   "version": "3.12.4"
  }
 },
 "nbformat": 4,
 "nbformat_minor": 5
}
